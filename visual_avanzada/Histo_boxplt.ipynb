{
 "cells": [
  {
   "cell_type": "markdown",
   "metadata": {},
   "source": [
    "# Ejercicios de histogramas y boxplots (Core)\n",
    "\n",
    "Análisis de Distribución y Desviaciones Usando Histogramas y Boxplots"
   ]
  },
  {
   "cell_type": "markdown",
   "metadata": {},
   "source": [
    "    Objetivo\n",
    "\n",
    "El objetivo de esta actividad es desarrollar habilidades avanzadas en la visualización de datos utilizando histogramas y boxplots. Usaremos un dataset interesante de Kaggle para explorar la distribución de los datos y detectar cualquier valor atípico. Esta actividad te ayudará a entender mejor la distribución de los datos y cómo los valores atípicos pueden afectar tu análisis.\n",
    "\n",
    "\n",
    "\n",
    "    Descripción del Ejercicio\n",
    "\n",
    "En esta actividad, utilizaremos el dataset «World Happiness Report» de Kaggle, que contiene información sobre la felicidad en diferentes países del mundo. Este dataset incluye variables como el puntaje de felicidad, el PIB per cápita, la expectativa de vida saludable, la libertad, la generosidad, entre otras.\n",
    "\n",
    "Puedes descargar el dataset desde el siguiente enlace: World Happiness Report."
   ]
  },
  {
   "cell_type": "markdown",
   "metadata": {},
   "source": [
    "# Cargar y Explorar los Datos:\n",
    "Descarga el dataset y cárgalo en un DataFrame de Pandas.\n",
    "Realiza una exploración inicial de los datos para entender las variables disponibles."
   ]
  },
  {
   "cell_type": "code",
   "execution_count": 5,
   "metadata": {},
   "outputs": [],
   "source": [
    "import pandas as pd\n",
    "import matplotlib.pyplot as plt\n",
    "import seaborn as sns"
   ]
  },
  {
   "cell_type": "code",
   "execution_count": null,
   "metadata": {},
   "outputs": [],
   "source": [
    "df = pd.read_csv('../data/2019.csv') \n",
    "\n",
    "df.head(5)"
   ]
  },
  {
   "cell_type": "code",
   "execution_count": null,
   "metadata": {},
   "outputs": [],
   "source": [
    "df.info()"
   ]
  },
  {
   "cell_type": "code",
   "execution_count": null,
   "metadata": {},
   "outputs": [],
   "source": [
    "df.describe()"
   ]
  },
  {
   "cell_type": "markdown",
   "metadata": {},
   "source": [
    "# Crear Histogramas:\n",
    "* Crea histogramas para las variables Score, GDP per capita, Healthy life expectancy y Freedom to make life choices.\n",
    "* Personaliza los histogramas con colores, bordes y ajustes de transparencia."
   ]
  },
  {
   "cell_type": "code",
   "execution_count": null,
   "metadata": {},
   "outputs": [],
   "source": [
    "# Histograma de Score\n",
    "plt.figure(figsize=(10, 6))\n",
    "plt.hist(df['Score'], bins=10, color='skyblue', edgecolor='black')\n",
    "plt.title('Distribución de Score')\n",
    "plt.xlabel('Score')\n",
    "plt.ylabel('Frecuencia')\n",
    "plt.show()"
   ]
  },
  {
   "cell_type": "code",
   "execution_count": null,
   "metadata": {},
   "outputs": [],
   "source": [
    "# Histograma de GDP per capita\n",
    "plt.figure(figsize=(10, 6))\n",
    "plt.hist(df['GDP per capita'], bins=10, color='blue', edgecolor='black')\n",
    "plt.title('Distribucion de GDP per capita')\n",
    "plt.xlabel('GPD per capita')\n",
    "plt.ylabel('Frecuencia')\n",
    "plt.show()"
   ]
  },
  {
   "cell_type": "code",
   "execution_count": null,
   "metadata": {},
   "outputs": [],
   "source": [
    "# Histograma de Healthy life expectancy\n",
    "plt.figure(figsize=(10, 6))\n",
    "plt.hist(df['Healthy life expectancy'], bins=10, color='orange', edgecolor='black')\n",
    "plt.title('Distribucion de Healthy life expectancy')\n",
    "plt.xlabel('GPD')\n",
    "plt.ylabel('Frecuencia')\n",
    "plt.show()"
   ]
  },
  {
   "cell_type": "code",
   "execution_count": null,
   "metadata": {},
   "outputs": [],
   "source": [
    "# Histograma de GDP per Freedom to make life choices\n",
    "plt.figure(figsize=(10, 6))\n",
    "plt.hist(df['Freedom to make life choices'], bins=10, color='green', edgecolor='black')\n",
    "plt.title('Distribucion de Freedom to make life choices')\n",
    "plt.xlabel('Freedom to make life choices')\n",
    "plt.ylabel('Frecuencia')\n",
    "plt.show()"
   ]
  },
  {
   "cell_type": "markdown",
   "metadata": {},
   "source": [
    "# Crear Boxplots:\n",
    "- Crea boxplots para las mismas variables para visualizar la mediana, el rango intercuartil y los valores atípicos.\n",
    "- Personaliza los boxplots con diferentes colores y estilos."
   ]
  },
  {
   "cell_type": "code",
   "execution_count": null,
   "metadata": {},
   "outputs": [],
   "source": [
    "# Boxplot para hacer una comparacion entre las columnas en cuestion\n",
    "grupo = ['Score', 'GDP per capita', 'Healthy life expectancy', 'Freedom to make life choices']  # Cambia a tus columnas\n",
    "\n",
    "# Crear boxplot\n",
    "plt.figure(figsize=(12, 6))\n",
    "plt.boxplot([df[col] for col in grupo], labels=grupo)\n",
    "plt.title('Boxplot de Score y otras columnas')\n",
    "plt.ylabel('Valores')\n",
    "plt.grid(True)\n",
    "plt.show()\n"
   ]
  },
  {
   "cell_type": "markdown",
   "metadata": {},
   "source": [
    "# Análisis Combinado:\n",
    "Combina los histogramas y los boxplots en una sola figura para cada variable.\n",
    "Interpreta los resultados y escribe un análisis sobre la distribución de cada variable y la presencia de valores atípicos.\n"
   ]
  },
  {
   "cell_type": "code",
   "execution_count": null,
   "metadata": {},
   "outputs": [],
   "source": [
    "# Lista de variables a analizar\n",
    "variables = ['Score', 'GDP per capita', 'Healthy life expectancy', 'Freedom to make life choices']  # Cambia a tus columnas\n",
    "\n",
    "# Crear gráficos para cada variable\n",
    "for variable in variables:\n",
    "    plt.figure(figsize=(12, 6))\n",
    "    \n",
    "    # Crear el histograma\n",
    "    plt.subplot(1, 2, 1)\n",
    "    sns.histplot(df[variable], bins=30, kde=True)\n",
    "    plt.title(f'Histograma de {variable}')\n",
    "    plt.xlabel(variable)\n",
    "    plt.ylabel('Frecuencia')\n",
    "\n",
    "    # Crear el boxplot\n",
    "    plt.subplot(1, 2, 2)\n",
    "    sns.boxplot(x=df[variable])\n",
    "    plt.title(f'Boxplot de {variable}')\n",
    "    plt.ylabel(variable)\n",
    "\n",
    "    plt.tight_layout()\n",
    "    plt.show()\n",
    "    "
   ]
  },
  {
   "cell_type": "markdown",
   "metadata": {},
   "source": [
    "obs: No me sale combinar los graficos, solo puedo hacerlo uno al lado del otro"
   ]
  },
  {
   "cell_type": "markdown",
   "metadata": {},
   "source": [
    "# Analisis e Interpretacion de Datos\n",
    "\n",
    "Distribucion de Score\n",
    "- Para la columna variable se observa una mayor concentracion de datos entre el puntaje 4 y 6\n",
    "- La mayor concentracion se encuentra sobre el puntaje 5,3\n",
    "\n",
    "Distribucion de GDP per capita\n",
    "- El histograma muestra una distribucion sesgada a la derecha lo cual indica que la mayoria de los paises tiene un gdp per capita\n",
    "mayor a 1\n",
    "- El boxplot nos indica una alta dispersion de datos pero casi sin valores anomalos\n",
    "\n",
    "Distribucion de Healthy life expectancy\n",
    "- En el histograma de esta variable podemos notar una distribucion muy sesgada a la derecha lo cual nos dice que la expectativa de vida saludable en \n",
    "la mayoria de los paises es alta\n",
    "- El boxplot nos reafirma la concentracion de datos hacia el punto maximo y un promedio tambien muy cercano al valor mas alto\n",
    "\n",
    "Distribucion de Freedom to make life choicese\n",
    "- Tambien podemos observar una distribucion concentrada a la derecha en el histograma, esto indica que la mayoria de los paises tienen un alto indice\n",
    "de libertad en tomas de desiciones\n",
    "- El boxplot muestra una gran dispersion de datos pero la mayor concentracion se encuentra entre el 0.3 y el 0.5"
   ]
  }
 ],
 "metadata": {
  "kernelspec": {
   "display_name": "base",
   "language": "python",
   "name": "python3"
  },
  "language_info": {
   "codemirror_mode": {
    "name": "ipython",
    "version": 3
   },
   "file_extension": ".py",
   "mimetype": "text/x-python",
   "name": "python",
   "nbconvert_exporter": "python",
   "pygments_lexer": "ipython3",
   "version": "3.12.4"
  }
 },
 "nbformat": 4,
 "nbformat_minor": 2
}
