{
 "cells": [
  {
   "cell_type": "markdown",
   "metadata": {},
   "source": [
    "Clasificación y Optimización de Hiperparámetros (Core)\n",
    "\n",
    "Objetivo: Implementar un pipeline completo de machine learning para un problema de clasificación utilizando técnicas de preprocesamiento, modelado, y optimización de hiperparámetros. Enfocar especialmente en la limpieza de datos y la optimización utilizando GridSearchCV y RandomizedSearchCV."
   ]
  },
  {
   "cell_type": "markdown",
   "metadata": {},
   "source": [
    "Dataset: Medical Cost Personal Dataset\n",
    "\n",
    "Descripción del Dataset: El dataset de costos médicos personales contiene información sobre varios factores que afectan los costos de seguros médicos, como la edad, el sexo, el índice de masa corporal, y el hábito de fumar. Este dataset es ideal para practicar técnicas de preprocesamiento y optimización de modelos debido a la presencia de datos sucios y variables tanto categóricas como numéricas."
   ]
  },
  {
   "cell_type": "markdown",
   "metadata": {},
   "source": [
    "# 1) Carga y Exploración Inicial de Datos:\n",
    "* Cargar el dataset desde Kaggle.\n",
    "* Realizar una exploración inicial para entender la estructura del dataset y las características disponibles.\n",
    "* Identificar y documentar los valores faltantes y outliers en el dataset."
   ]
  },
  {
   "cell_type": "code",
   "execution_count": 71,
   "metadata": {},
   "outputs": [],
   "source": [
    "import pandas as pd\n",
    "import numpy as np\n",
    "import seaborn as sns\n",
    "import matplotlib.pyplot as plt\n",
    "from sklearn.model_selection import train_test_split\n",
    "from sklearn.preprocessing import StandardScaler, OneHotEncoder\n",
    "from sklearn.compose import ColumnTransformer\n",
    "from sklearn.pipeline import Pipeline\n",
    "from sklearn.neighbors import KNeighborsRegressor\n",
    "from sklearn.ensemble import RandomForestRegressor\n",
    "from sklearn.tree import DecisionTreeRegressor\n",
    "from sklearn.model_selection import cross_val_score\n",
    "from sklearn.datasets import load_iris\n",
    "from sklearn.metrics import mean_absolute_error, mean_squared_error, r2_score, roc_curve, roc_auc_score\n",
    "from sklearn.metrics import accuracy_score, classification_report, confusion_matrix, log_loss\n",
    "from sklearn.metrics import ConfusionMatrixDisplay\n",
    "from sklearn.metrics import precision_score, recall_score, f1_score\n",
    "from collections import Counter\n",
    "from sklearn.model_selection import GridSearchCV, RandomizedSearchCV\n",
    "from scipy.stats import uniform\n"
   ]
  },
  {
   "cell_type": "code",
   "execution_count": 72,
   "metadata": {},
   "outputs": [
    {
     "name": "stdout",
     "output_type": "stream",
     "text": [
      "(1338, 7)\n",
      "Index(['age', 'sex', 'bmi', 'children', 'smoker', 'region', 'charges'], dtype='object')\n",
      "<class 'pandas.core.frame.DataFrame'>\n",
      "RangeIndex: 1338 entries, 0 to 1337\n",
      "Data columns (total 7 columns):\n",
      " #   Column    Non-Null Count  Dtype  \n",
      "---  ------    --------------  -----  \n",
      " 0   age       1338 non-null   int64  \n",
      " 1   sex       1338 non-null   object \n",
      " 2   bmi       1338 non-null   float64\n",
      " 3   children  1338 non-null   int64  \n",
      " 4   smoker    1338 non-null   object \n",
      " 5   region    1338 non-null   object \n",
      " 6   charges   1338 non-null   float64\n",
      "dtypes: float64(2), int64(2), object(3)\n",
      "memory usage: 73.3+ KB\n"
     ]
    },
    {
     "data": {
      "text/html": [
       "<div>\n",
       "<style scoped>\n",
       "    .dataframe tbody tr th:only-of-type {\n",
       "        vertical-align: middle;\n",
       "    }\n",
       "\n",
       "    .dataframe tbody tr th {\n",
       "        vertical-align: top;\n",
       "    }\n",
       "\n",
       "    .dataframe thead th {\n",
       "        text-align: right;\n",
       "    }\n",
       "</style>\n",
       "<table border=\"1\" class=\"dataframe\">\n",
       "  <thead>\n",
       "    <tr style=\"text-align: right;\">\n",
       "      <th></th>\n",
       "      <th>age</th>\n",
       "      <th>sex</th>\n",
       "      <th>bmi</th>\n",
       "      <th>children</th>\n",
       "      <th>smoker</th>\n",
       "      <th>region</th>\n",
       "      <th>charges</th>\n",
       "    </tr>\n",
       "  </thead>\n",
       "  <tbody>\n",
       "    <tr>\n",
       "      <th>0</th>\n",
       "      <td>19</td>\n",
       "      <td>female</td>\n",
       "      <td>27.900</td>\n",
       "      <td>0</td>\n",
       "      <td>yes</td>\n",
       "      <td>southwest</td>\n",
       "      <td>16884.92400</td>\n",
       "    </tr>\n",
       "    <tr>\n",
       "      <th>1</th>\n",
       "      <td>18</td>\n",
       "      <td>male</td>\n",
       "      <td>33.770</td>\n",
       "      <td>1</td>\n",
       "      <td>no</td>\n",
       "      <td>southeast</td>\n",
       "      <td>1725.55230</td>\n",
       "    </tr>\n",
       "    <tr>\n",
       "      <th>2</th>\n",
       "      <td>28</td>\n",
       "      <td>male</td>\n",
       "      <td>33.000</td>\n",
       "      <td>3</td>\n",
       "      <td>no</td>\n",
       "      <td>southeast</td>\n",
       "      <td>4449.46200</td>\n",
       "    </tr>\n",
       "    <tr>\n",
       "      <th>3</th>\n",
       "      <td>33</td>\n",
       "      <td>male</td>\n",
       "      <td>22.705</td>\n",
       "      <td>0</td>\n",
       "      <td>no</td>\n",
       "      <td>northwest</td>\n",
       "      <td>21984.47061</td>\n",
       "    </tr>\n",
       "    <tr>\n",
       "      <th>4</th>\n",
       "      <td>32</td>\n",
       "      <td>male</td>\n",
       "      <td>28.880</td>\n",
       "      <td>0</td>\n",
       "      <td>no</td>\n",
       "      <td>northwest</td>\n",
       "      <td>3866.85520</td>\n",
       "    </tr>\n",
       "  </tbody>\n",
       "</table>\n",
       "</div>"
      ],
      "text/plain": [
       "   age     sex     bmi  children smoker     region      charges\n",
       "0   19  female  27.900         0    yes  southwest  16884.92400\n",
       "1   18    male  33.770         1     no  southeast   1725.55230\n",
       "2   28    male  33.000         3     no  southeast   4449.46200\n",
       "3   33    male  22.705         0     no  northwest  21984.47061\n",
       "4   32    male  28.880         0     no  northwest   3866.85520"
      ]
     },
     "execution_count": 72,
     "metadata": {},
     "output_type": "execute_result"
    }
   ],
   "source": [
    "# cargar el dataset\n",
    "data = pd.read_csv('../data/insurance.csv')\n",
    "print(data.shape)\n",
    "print(data.columns)\n",
    "data.info()\n",
    "data.head(5)"
   ]
  },
  {
   "cell_type": "code",
   "execution_count": 73,
   "metadata": {},
   "outputs": [
    {
     "name": "stdout",
     "output_type": "stream",
     "text": [
      "Valores faltantes: age         0\n",
      "sex         0\n",
      "bmi         0\n",
      "children    0\n",
      "smoker      0\n",
      "region      0\n",
      "charges     0\n",
      "dtype: int64\n"
     ]
    }
   ],
   "source": [
    "print(\"Valores faltantes:\", data.isnull().sum())"
   ]
  },
  {
   "cell_type": "code",
   "execution_count": 74,
   "metadata": {},
   "outputs": [
    {
     "data": {
      "text/html": [
       "<div>\n",
       "<style scoped>\n",
       "    .dataframe tbody tr th:only-of-type {\n",
       "        vertical-align: middle;\n",
       "    }\n",
       "\n",
       "    .dataframe tbody tr th {\n",
       "        vertical-align: top;\n",
       "    }\n",
       "\n",
       "    .dataframe thead th {\n",
       "        text-align: right;\n",
       "    }\n",
       "</style>\n",
       "<table border=\"1\" class=\"dataframe\">\n",
       "  <thead>\n",
       "    <tr style=\"text-align: right;\">\n",
       "      <th></th>\n",
       "      <th>age</th>\n",
       "      <th>bmi</th>\n",
       "      <th>children</th>\n",
       "      <th>charges</th>\n",
       "    </tr>\n",
       "  </thead>\n",
       "  <tbody>\n",
       "    <tr>\n",
       "      <th>count</th>\n",
       "      <td>1338.000000</td>\n",
       "      <td>1338.000000</td>\n",
       "      <td>1338.000000</td>\n",
       "      <td>1338.000000</td>\n",
       "    </tr>\n",
       "    <tr>\n",
       "      <th>mean</th>\n",
       "      <td>39.207025</td>\n",
       "      <td>30.663397</td>\n",
       "      <td>1.094918</td>\n",
       "      <td>13270.422265</td>\n",
       "    </tr>\n",
       "    <tr>\n",
       "      <th>std</th>\n",
       "      <td>14.049960</td>\n",
       "      <td>6.098187</td>\n",
       "      <td>1.205493</td>\n",
       "      <td>12110.011237</td>\n",
       "    </tr>\n",
       "    <tr>\n",
       "      <th>min</th>\n",
       "      <td>18.000000</td>\n",
       "      <td>15.960000</td>\n",
       "      <td>0.000000</td>\n",
       "      <td>1121.873900</td>\n",
       "    </tr>\n",
       "    <tr>\n",
       "      <th>25%</th>\n",
       "      <td>27.000000</td>\n",
       "      <td>26.296250</td>\n",
       "      <td>0.000000</td>\n",
       "      <td>4740.287150</td>\n",
       "    </tr>\n",
       "    <tr>\n",
       "      <th>50%</th>\n",
       "      <td>39.000000</td>\n",
       "      <td>30.400000</td>\n",
       "      <td>1.000000</td>\n",
       "      <td>9382.033000</td>\n",
       "    </tr>\n",
       "    <tr>\n",
       "      <th>75%</th>\n",
       "      <td>51.000000</td>\n",
       "      <td>34.693750</td>\n",
       "      <td>2.000000</td>\n",
       "      <td>16639.912515</td>\n",
       "    </tr>\n",
       "    <tr>\n",
       "      <th>max</th>\n",
       "      <td>64.000000</td>\n",
       "      <td>53.130000</td>\n",
       "      <td>5.000000</td>\n",
       "      <td>63770.428010</td>\n",
       "    </tr>\n",
       "  </tbody>\n",
       "</table>\n",
       "</div>"
      ],
      "text/plain": [
       "               age          bmi     children       charges\n",
       "count  1338.000000  1338.000000  1338.000000   1338.000000\n",
       "mean     39.207025    30.663397     1.094918  13270.422265\n",
       "std      14.049960     6.098187     1.205493  12110.011237\n",
       "min      18.000000    15.960000     0.000000   1121.873900\n",
       "25%      27.000000    26.296250     0.000000   4740.287150\n",
       "50%      39.000000    30.400000     1.000000   9382.033000\n",
       "75%      51.000000    34.693750     2.000000  16639.912515\n",
       "max      64.000000    53.130000     5.000000  63770.428010"
      ]
     },
     "execution_count": 74,
     "metadata": {},
     "output_type": "execute_result"
    }
   ],
   "source": [
    "data.describe()"
   ]
  },
  {
   "cell_type": "code",
   "execution_count": 75,
   "metadata": {},
   "outputs": [
    {
     "name": "stdout",
     "output_type": "stream",
     "text": [
      "<class 'pandas.core.frame.DataFrame'>\n",
      "RangeIndex: 1338 entries, 0 to 1337\n",
      "Data columns (total 7 columns):\n",
      " #   Column    Non-Null Count  Dtype   \n",
      "---  ------    --------------  -----   \n",
      " 0   age       1338 non-null   int64   \n",
      " 1   sex       1338 non-null   category\n",
      " 2   bmi       1338 non-null   float64 \n",
      " 3   children  1338 non-null   int64   \n",
      " 4   smoker    1338 non-null   category\n",
      " 5   region    1338 non-null   category\n",
      " 6   charges   1338 non-null   float64 \n",
      "dtypes: category(3), float64(2), int64(2)\n",
      "memory usage: 46.3 KB\n"
     ]
    }
   ],
   "source": [
    "# Corregimos los tipo de datos\n",
    "data_type = {\n",
    "    'smoker' : 'category',\n",
    "    'region' : 'category',   \n",
    "    'sex' : 'category' \n",
    "}\n",
    "data = data.astype(data_type)\n",
    "data.info()"
   ]
  },
  {
   "cell_type": "code",
   "execution_count": 76,
   "metadata": {},
   "outputs": [
    {
     "data": {
      "text/plain": [
       "['female', 'male']\n",
       "Categories (2, object): ['female', 'male']"
      ]
     },
     "execution_count": 76,
     "metadata": {},
     "output_type": "execute_result"
    }
   ],
   "source": [
    "data['sex'].unique()\n"
   ]
  },
  {
   "cell_type": "code",
   "execution_count": 77,
   "metadata": {},
   "outputs": [
    {
     "data": {
      "text/plain": [
       "['southwest', 'southeast', 'northwest', 'northeast']\n",
       "Categories (4, object): ['northeast', 'northwest', 'southeast', 'southwest']"
      ]
     },
     "execution_count": 77,
     "metadata": {},
     "output_type": "execute_result"
    }
   ],
   "source": [
    "data['region'].unique()"
   ]
  },
  {
   "cell_type": "code",
   "execution_count": 78,
   "metadata": {},
   "outputs": [
    {
     "data": {
      "text/plain": [
       "['yes', 'no']\n",
       "Categories (2, object): ['no', 'yes']"
      ]
     },
     "execution_count": 78,
     "metadata": {},
     "output_type": "execute_result"
    }
   ],
   "source": [
    "data['smoker'].unique()"
   ]
  },
  {
   "cell_type": "markdown",
   "metadata": {},
   "source": [
    "## Preprocesamiento de Datos:\n",
    "* Imputar valores faltantes utilizando técnicas adecuadas (media, mediana, moda, imputación avanzada).\n",
    "* Codificar variables categóricas utilizando One-Hot Encoding.\n",
    "* Escalar características numéricas utilizando StandardScaler."
   ]
  },
  {
   "cell_type": "code",
   "execution_count": 79,
   "metadata": {},
   "outputs": [],
   "source": [
    "# Seleccionar columnas \n",
    "X = data[['age', 'sex', 'bmi', 'children', 'smoker', 'region']] \n",
    "y = data['charges']\n",
    "\n",
    "# Dividir en entrenamiento y prueba\n",
    "X_train, X_test, y_train, y_test = train_test_split(X, y, test_size=0.3, random_state=42)\n",
    "\n",
    "# Definir columnas categóricas y numéricas\n",
    "numerical_columns = ['age', 'bmi', 'children']\n",
    "categorical_columns = ['sex', 'smoker', 'region']\n",
    "\n",
    "# Definir transformaciones específicas para cada tipo de dato\n",
    "preprocessor = ColumnTransformer(\n",
    "    transformers=[    \n",
    "        ('num', StandardScaler(), numerical_columns),  # Escalado numérico\n",
    "        ('cat', OneHotEncoder(), categorical_columns)  # Codificación categórica\n",
    "    ]\n",
    ")"
   ]
  },
  {
   "cell_type": "markdown",
   "metadata": {},
   "source": [
    "## Implementación de Modelos de Clasificación:"
   ]
  },
  {
   "cell_type": "code",
   "execution_count": null,
   "metadata": {},
   "outputs": [
    {
     "name": "stdout",
     "output_type": "stream",
     "text": [
      "KNN - MSE: 34260377.0476, R²: 0.7663\n",
      "Regresión Logística - MSE: 21317568.6867, R²: 0.8546\n",
      "Árbol de Decisión - MSE: 37005481.0817, R²: 0.7476\n"
     ]
    }
   ],
   "source": [
    "\n",
    "# Crear un pipeline para KNN\n",
    "knn_model = Pipeline(steps=[\n",
    "    ('preprocessor', preprocessor),\n",
    "    ('knn', KNeighborsRegressor())\n",
    "])\n",
    "\n",
    "# Crear un pipeline para Random Forest)\n",
    "rf_model = Pipeline(steps=[\n",
    "    ('preprocessor', preprocessor),\n",
    "    ('logreg', RandomForestRegressor())\n",
    "])\n",
    "\n",
    "# Crear un pipeline para el árbol de decisión\n",
    "dt_model = Pipeline(steps=[\n",
    "    ('preprocessor', preprocessor),\n",
    "    ('dt', DecisionTreeRegressor())\n",
    "])\n",
    "\n",
    "# Entrenar y evaluar los modelos\n",
    "\n",
    "# KNN\n",
    "knn_model.fit(X_train, y_train)\n",
    "knn_predictions = knn_model.predict(X_test)\n",
    "knn_mse = mean_squared_error(y_test, knn_predictions)\n",
    "knn_r2 = r2_score(y_test, knn_predictions)\n",
    "print(f'KNN - MSE: {knn_mse:.4f}, R²: {knn_r2:.4f}')\n",
    "\n",
    "# Random Forest\n",
    "rf_model.fit(X_train, y_train)\n",
    "rf_predictions = rf_model.predict(X_test)\n",
    "rf_mse = mean_squared_error(y_test, rf_predictions)\n",
    "rf_r2 = r2_score(y_test, rf_predictions)\n",
    "print(f'Random Forest - MSE: {rf_mse:.4f}, R²: {rf_r2:.4f}')\n",
    "\n",
    "# Árbol de Decisión\n",
    "dt_model.fit(X_train, y_train)\n",
    "dt_predictions = dt_model.predict(X_test)\n",
    "dt_mse = mean_squared_error(y_test, dt_predictions)\n",
    "dt_r2 = r2_score(y_test, dt_predictions)\n",
    "print(f'Árbol de Decisión - MSE: {dt_mse:.4f}, R²: {dt_r2:.4f}')"
   ]
  },
  {
   "cell_type": "markdown",
   "metadata": {},
   "source": [
    "## Optimización de Hiperparámetros"
   ]
  },
  {
   "cell_type": "code",
   "execution_count": 81,
   "metadata": {},
   "outputs": [],
   "source": [
    "\n",
    "# Definir los hiperparámetros a optimizar para cada modelo\n",
    "\n",
    "# KNN: Probar con diferentes números de vecinos y pesos\n",
    "knn_param_grid = {\n",
    "    'knn__n_neighbors': [3, 5, 7, 9, 11],  # Número de vecinos\n",
    "    'knn__weights': ['uniform', 'distance'],  # Tipo de ponderación\n",
    "}\n",
    "\n",
    "# Definir los hiperparámetros a optimizar para Random Forest\n",
    "rf_param_grid = {\n",
    "    'rf__n_estimators': [50, 100, 150, 200],  # Número de árboles en el bosque\n",
    "    'rf__max_depth': [3, 5, 10, None],  # Profundidad máxima del árbol\n",
    "    'rf__min_samples_split': [2, 5, 10],  # Mínimo número de muestras para dividir\n",
    "    'rf__min_samples_leaf': [1, 2, 4],  # Mínimo número de muestras por hoja\n",
    "    'rf__bootstrap': [True, False]  # Si usar o no bootstrap\n",
    "}\n",
    "\n",
    "# Árbol de Decisión: Probar con diferentes profundidades y criterios\n",
    "dt_param_grid = {\n",
    "    'dt__max_depth': [3, 5, 7, 10, None],  # Profundidad máxima\n",
    "    'dt__min_samples_split': [2, 5, 10],  # Mínimo número de muestras para dividir\n",
    "    'dt__criterion': ['squared_error', 'friedman_mse'],  # Criterio de división\n",
    "}\n",
    "\n"
   ]
  },
  {
   "cell_type": "code",
   "execution_count": 82,
   "metadata": {},
   "outputs": [],
   "source": [
    "# Crear un pipeline para cada modelo con su preprocesador\n",
    "\n",
    "# KNN Pipeline\n",
    "knn_model = Pipeline(steps=[\n",
    "    ('preprocessor', preprocessor),\n",
    "    ('knn', KNeighborsRegressor())\n",
    "])\n",
    "\n",
    "# Parámetros optimizados para la búsqueda\n",
    "rf_param_grid = {\n",
    "    'rf__n_estimators': [100, 150, 200],  # Limitar el número de árboles\n",
    "    'rf__max_depth': [5, 10, None],  # Profundidades más moderadas\n",
    "    'rf__min_samples_split': [2, 5],  # Solo algunos valores representativos\n",
    "    'rf__min_samples_leaf': [1, 2],  # Solo algunos valores\n",
    "    'rf__bootstrap': [True]  # Solo probar con bootstrap\n",
    "}\n",
    "# Crear el modelo de Random Forest\n",
    "rf_model = Pipeline(steps=[\n",
    "    ('preprocessor', preprocessor),\n",
    "    ('rf', RandomForestRegressor())\n",
    "])\n",
    "\n",
    "# Árbol de Decisión Pipeline\n",
    "dt_model = Pipeline(steps=[\n",
    "    ('preprocessor', preprocessor),\n",
    "    ('dt', DecisionTreeRegressor())\n",
    "])"
   ]
  },
  {
   "cell_type": "code",
   "execution_count": 83,
   "metadata": {},
   "outputs": [],
   "source": [
    "# Implementar GridSearchCV para KNN\n",
    "grid_knn = GridSearchCV(knn_model, knn_param_grid, cv=3, scoring='neg_mean_squared_error', n_jobs=-1)\n",
    "grid_knn.fit(X_train, y_train)\n",
    "grid_knn_best_params = grid_knn.best_params_\n",
    "grid_knn_best_score = grid_knn.best_score_"
   ]
  },
  {
   "cell_type": "code",
   "execution_count": 84,
   "metadata": {},
   "outputs": [],
   "source": [
    "# Implementar GridSearchCV para Random Forest\n",
    "grid_rf = GridSearchCV(rf_model, rf_param_grid, cv=3, scoring='neg_mean_squared_error', n_jobs=-1)\n",
    "grid_rf.fit(X_train, y_train)\n",
    "grid_rf_best_params = grid_rf.best_params_\n",
    "grid_rf_best_score = grid_rf.best_score_"
   ]
  },
  {
   "cell_type": "code",
   "execution_count": 85,
   "metadata": {},
   "outputs": [],
   "source": [
    "# Implementar GridSearchCV para Árbol de Decisión\n",
    "grid_dt = GridSearchCV(dt_model, dt_param_grid, cv=3, scoring='neg_mean_squared_error', n_jobs=-1)\n",
    "grid_dt.fit(X_train, y_train)\n",
    "grid_dt_best_params = grid_dt.best_params_\n",
    "grid_dt_best_score = grid_dt.best_score_"
   ]
  },
  {
   "cell_type": "code",
   "execution_count": 86,
   "metadata": {},
   "outputs": [],
   "source": [
    "# Implementar RandomizedSearchCV para KNN (con distribución uniforme para 'n_neighbors')\n",
    "random_knn = RandomizedSearchCV(knn_model, knn_param_grid, n_iter=10, cv=3, scoring='neg_mean_squared_error', random_state=42, n_jobs=-1)\n",
    "random_knn.fit(X_train, y_train)\n",
    "random_knn_best_params = random_knn.best_params_\n",
    "random_knn_best_score = random_knn.best_score_\n",
    "\n",
    "# Implementar RandomizedSearchCV para Random Forest\n",
    "random_rf = RandomizedSearchCV(rf_model, rf_param_grid, n_iter=10, cv=3, scoring='neg_mean_squared_error', random_state=42, n_jobs=-1)\n",
    "random_rf.fit(X_train, y_train)\n",
    "random_rf_best_params = random_rf.best_params_\n",
    "random_rf_best_score = random_rf.best_score_\n",
    "\n",
    "# Implementar RandomizedSearchCV para Árbol de Decisión\n",
    "random_dt = RandomizedSearchCV(dt_model, dt_param_grid, n_iter=10, cv=3, scoring='neg_mean_squared_error', random_state=42, n_jobs=-1)\n",
    "random_dt.fit(X_train, y_train)\n",
    "random_dt_best_params = random_dt.best_params_\n",
    "random_dt_best_score = random_dt.best_score_"
   ]
  },
  {
   "cell_type": "code",
   "execution_count": 87,
   "metadata": {},
   "outputs": [
    {
     "name": "stdout",
     "output_type": "stream",
     "text": [
      "KNN - GridSearchCV Best Params: {'knn__n_neighbors': 5, 'knn__weights': 'distance'}\n",
      "KNN - GridSearchCV Best Score: -40757730.68560166\n",
      "KNN - RandomizedSearchCV Best Params: {'knn__weights': 'distance', 'knn__n_neighbors': 5}\n",
      "KNN - RandomizedSearchCV Best Score: -40757730.68560166\n",
      "\n",
      "Random Forest - GridSearchCV Best Params: {'rf__bootstrap': True, 'rf__max_depth': 5, 'rf__min_samples_leaf': 2, 'rf__min_samples_split': 5, 'rf__n_estimators': 100}\n",
      "Random Forest - GridSearchCV Best Score: -22237202.17169947\n",
      "Random Forest - RandomizedSearchCV Best Params: {'rf__n_estimators': 200, 'rf__min_samples_split': 2, 'rf__min_samples_leaf': 2, 'rf__max_depth': 5, 'rf__bootstrap': True}\n",
      "Random Forest - RandomizedSearchCV Best Score: -22211853.941315006\n",
      "\n",
      "DecisionTree - GridSearchCV Best Params: {'dt__criterion': 'friedman_mse', 'dt__max_depth': 3, 'dt__min_samples_split': 5}\n",
      "DecisionTree - GridSearchCV Best Score: -23494632.197413202\n",
      "DecisionTree - RandomizedSearchCV Best Params: {'dt__min_samples_split': 2, 'dt__max_depth': 3, 'dt__criterion': 'squared_error'}\n",
      "DecisionTree - RandomizedSearchCV Best Score: -23494632.197413202\n"
     ]
    }
   ],
   "source": [
    "# Comparar los resultados de GridSearchCV y RandomizedSearchCV\n",
    "print(\"KNN - GridSearchCV Best Params:\", grid_knn_best_params)\n",
    "print(\"KNN - GridSearchCV Best Score:\", grid_knn_best_score)\n",
    "print(\"KNN - RandomizedSearchCV Best Params:\", random_knn_best_params)\n",
    "print(\"KNN - RandomizedSearchCV Best Score:\", random_knn_best_score)\n",
    "\n",
    "# Comparar los resultados de GridSearchCV y RandomizedSearchCV para Random Forest\n",
    "print(\"\\nRandom Forest - GridSearchCV Best Params:\", grid_rf_best_params)\n",
    "print(\"Random Forest - GridSearchCV Best Score:\", grid_rf_best_score)\n",
    "print(\"Random Forest - RandomizedSearchCV Best Params:\", random_rf_best_params)\n",
    "print(\"Random Forest - RandomizedSearchCV Best Score:\", random_rf_best_score)\n",
    "\n",
    "# Comparar los resultados de GridSearchCV y RandomizedSearchCV para Desicion Tree\n",
    "print(\"\\nDecisionTree - GridSearchCV Best Params:\", grid_dt_best_params)\n",
    "print(\"DecisionTree - GridSearchCV Best Score:\", grid_dt_best_score)\n",
    "print(\"DecisionTree - RandomizedSearchCV Best Params:\", random_dt_best_params)\n",
    "print(\"DecisionTree - RandomizedSearchCV Best Score:\", random_dt_best_score)"
   ]
  },
  {
   "cell_type": "markdown",
   "metadata": {},
   "source": [
    "## Evaluación de Modelos:"
   ]
  },
  {
   "cell_type": "code",
   "execution_count": null,
   "metadata": {},
   "outputs": [
    {
     "name": "stdout",
     "output_type": "stream",
     "text": [
      "KNN - MSE: 32949566.4971, R²: 0.7753\n",
      "Random Forest - MSE: 18929926.8504, R²: 0.8709\n",
      "Decision Tree - MSE: 22877590.7905, R²: 0.8440\n"
     ]
    }
   ],
   "source": [
    "# Crear un pipeline para KNN\n",
    "knn_model = Pipeline(steps=[\n",
    "    ('preprocessor', preprocessor),\n",
    "    ('knn', KNeighborsRegressor(n_neighbors=5, weights='distance'))  # Usando los mejores parámetros\n",
    "])\n",
    "\n",
    "# Crear un pipeline para Random Forest\n",
    "rf_model = Pipeline(steps=[\n",
    "    ('preprocessor', preprocessor),\n",
    "    ('rf', RandomForestRegressor(\n",
    "        bootstrap=True, max_depth=5, min_samples_leaf=2, \n",
    "        min_samples_split=5, n_estimators=100))  # Usando los mejores parámetros\n",
    "])\n",
    "\n",
    "# Crear un pipeline para el árbol de decisión\n",
    "dt_model = Pipeline(steps=[\n",
    "    ('preprocessor', preprocessor),\n",
    "    ('dt', DecisionTreeRegressor(criterion='friedman_mse', max_depth=3, min_samples_split=5))  # Usando los mejores parámetros\n",
    "])\n",
    "\n",
    "# Entrenar los modelos con los parámetros aplicados\n",
    "\n",
    "# KNN\n",
    "knn_model.fit(X_train, y_train)\n",
    "\n",
    "# Random Forest\n",
    "rf_model.fit(X_train, y_train)\n",
    "\n",
    "# Árbol de Decisión\n",
    "dt_model.fit(X_train, y_train)\n",
    "\n",
    "# Hacer predicciones con cada modelo\n",
    "knn_predictions = knn_model.predict(X_test)\n",
    "rf_predictions = rf_model.predict(X_test)\n",
    "dt_predictions = dt_model.predict(X_test)\n",
    "\n",
    "# Evaluar los modelos (Ejemplo: MSE y R²)\n",
    "from sklearn.metrics import mean_squared_error, r2_score\n",
    "\n",
    "knn_mse = mean_squared_error(y_test, knn_predictions)\n",
    "knn_r2 = r2_score(y_test, knn_predictions)\n",
    "\n",
    "rf_mse = mean_squared_error(y_test, rf_predictions)\n",
    "rf_r2 = r2_score(y_test, rf_predictions)\n",
    "\n",
    "dt_mse = mean_squared_error(y_test, dt_predictions)\n",
    "dt_r2 = r2_score(y_test, dt_predictions)\n",
    "\n",
    "# Imprimir los resultados\n",
    "print(f\"KNN - MSE: {knn_mse:.4f}, R²: {knn_r2:.4f}\")\n",
    "print(f\"Random Forest - MSE: {rf_mse:.4f}, R²: {rf_r2:.4f}\")\n",
    "print(f\"Decision Tree - MSE: {dt_mse:.4f}, R²: {dt_r2:.4f}\")\n",
    "\n"
   ]
  },
  {
   "cell_type": "markdown",
   "metadata": {},
   "source": [
    "## Conclusiones:\n",
    "* El modelo mas adecuado para este dataset es el random forest cuyo resultado despues de optimizar los parametros con gridsearchCV obtuvo un R² de 0.87\n",
    "* Como es un modelo de regresion y no de clasificacion se utilizan las metricas de R² y mse para comparar los modelos"
   ]
  }
 ],
 "metadata": {
  "kernelspec": {
   "display_name": "ml_env",
   "language": "python",
   "name": "python3"
  },
  "language_info": {
   "codemirror_mode": {
    "name": "ipython",
    "version": 3
   },
   "file_extension": ".py",
   "mimetype": "text/x-python",
   "name": "python",
   "nbconvert_exporter": "python",
   "pygments_lexer": "ipython3",
   "version": "3.12.7"
  }
 },
 "nbformat": 4,
 "nbformat_minor": 2
}
