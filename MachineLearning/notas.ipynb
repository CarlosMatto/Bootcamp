{
 "cells": [
  {
   "cell_type": "markdown",
   "metadata": {},
   "source": [
    "precision: precision sobre muestra pequeña\n",
    "\n",
    "recall: mayor alcance pero menor precision\n",
    "\n",
    "f1score: promedio entre precision y recall"
   ]
  }
 ],
 "metadata": {
  "language_info": {
   "name": "python"
  }
 },
 "nbformat": 4,
 "nbformat_minor": 2
}
