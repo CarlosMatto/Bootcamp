{
 "cells": [
  {
   "cell_type": "markdown",
   "metadata": {},
   "source": [
    "precision: precision sobre muestra pequeña\n",
    "\n",
    "recall: mayor alcance pero menor precision\n",
    "\n",
    "f1score: promedio entre precision y recall"
   ]
  },
  {
   "cell_type": "markdown",
   "metadata": {},
   "source": [
    "# Manejo de valores faltantes adecuadamente: \n",
    "qsna=data.shape[0]-data.isnull().sum(axis=0)\n",
    "qna=data.isnull().sum(axis=0)\n",
    "ppna=round(100*(data.isnull().sum(axis=0)/data.shape[0]),2)\n",
    "aux= {'datos sin NAs en q': qsna, 'Na en q': qna ,'Na en %': ppna}\n",
    "na=pd.DataFrame(data=aux)\n",
    "na.sort_values(by='Na en %',ascending=False)"
   ]
  },
  {
   "cell_type": "markdown",
   "metadata": {},
   "source": [
    "def convert_object_to_category(data):\n",
    "    for col in data.select_dtypes(include=['object']).columns:\n",
    "        data[col] = data[col].astype('category')\n",
    "    return data\n",
    "\n",
    "# Usando la función en tu dataset\n",
    "data = convert_object_to_category(data)\n",
    "data.info()"
   ]
  }
 ],
 "metadata": {
  "language_info": {
   "name": "python"
  }
 },
 "nbformat": 4,
 "nbformat_minor": 2
}
