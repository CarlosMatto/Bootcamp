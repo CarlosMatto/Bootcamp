{
 "cells": [
  {
   "cell_type": "code",
   "execution_count": 1,
   "metadata": {},
   "outputs": [],
   "source": [
    "import numpy as np\n",
    "import pandas as pd"
   ]
  },
  {
   "cell_type": "code",
   "execution_count": 9,
   "metadata": {},
   "outputs": [
    {
     "name": "stdout",
     "output_type": "stream",
     "text": [
      "[[   1.   nan   nan ...    3.   50.  150.]\n",
      " [   2.   nan   nan ...    2.  500. 1000.]\n",
      " [   3.   nan   nan ...    1.   30.   30.]\n",
      " ...\n",
      " [ 998.   nan   nan ...    4.   25.  100.]\n",
      " [ 999.   nan   nan ...    3.   50.  150.]\n",
      " [1000.   nan   nan ...    4.   30.  120.]]\n"
     ]
    }
   ],
   "source": [
    "# cargamos el dataset\n",
    "\n",
    "def cargar_datos(ruta_archivo):\n",
    "    # Carga los datos del archivo CSV utilizando NumPy\n",
    "    datos = np.genfromtxt(ruta_archivo, delimiter=',', skip_header=1) # C:\\Users\\IK\\mi_proyecto\\data\n",
    "    return datos\n",
    "\n",
    "if __name__ == \"__main__\":\n",
    "    ruta_archivo = './data/retail_sales_dataset.csv'\n",
    "    datos = cargar_datos(ruta_archivo)\n",
    "    print(datos)"
   ]
  },
  {
   "cell_type": "code",
   "execution_count": 14,
   "metadata": {},
   "outputs": [
    {
     "name": "stdout",
     "output_type": "stream",
     "text": [
      "Product Category\n",
      "Beauty         143515\n",
      "Clothing       155580\n",
      "Electronics    156905\n",
      "Name: Total Amount, dtype: int64\n"
     ]
    }
   ],
   "source": [
    "# realizamos la exploración de los datos\n",
    "# ventas por categoria del producto\n",
    "\n",
    "def cargar_datos(ruta_archivo):\n",
    "    # Cargar datos del archivo CSV utilizando Pandas\n",
    "    datos = pd.read_csv(ruta_archivo)\n",
    "    return datos\n",
    "\n",
    "def total_ventas_por_categoria(datos):\n",
    "    # Agrupar los datos por la columna 'Product Category' y sumar la columna 'Total amount'\n",
    "    total_ventas = datos.groupby('Product Category')['Total Amount'].sum()\n",
    "    return total_ventas\n",
    "\n",
    "if __name__ == \"__main__\":\n",
    "    ruta_archivo = './data/retail_sales_dataset.csv'  # Cambia la ruta según sea necesario\n",
    "    datos = cargar_datos(ruta_archivo)\n",
    "    total_ventas = total_ventas_por_categoria(datos)\n",
    "    print(total_ventas)"
   ]
  },
  {
   "cell_type": "code",
   "execution_count": 15,
   "metadata": {},
   "outputs": [
    {
     "name": "stdout",
     "output_type": "stream",
     "text": [
      "Promedio de ventas diarias por categoría:\n",
      "                  Total Amount\n",
      "Product Category              \n",
      "Beauty              467.475570\n",
      "Clothing            443.247863\n",
      "Electronics         458.786550\n"
     ]
    }
   ],
   "source": [
    "# Promedio de ventas diarias por categoria\n",
    "def promedio_ventas_diarias(datos):\n",
    "    # Asegurarnos de que la columna Fecha sea de tipo datetime\n",
    "    datos['Date'] = pd.to_datetime(datos['Date'])\n",
    "    \n",
    "    # Agrupar por categoría y luego calcular el promedio de ventas diarias\n",
    "    promedio_ventas = datos.groupby('Product Category').agg({'Total Amount': 'mean'})\n",
    "    \n",
    "    return promedio_ventas\n",
    "\n",
    "if __name__ == \"__main__\":\n",
    "    ruta_archivo = './data/retail_sales_dataset.csv' \n",
    "    datos = cargar_datos(ruta_archivo)\n",
    "    \n",
    "    # Calcular y mostrar el promedio de ventas diarias por categoría\n",
    "    promedio_ventas = promedio_ventas_diarias(datos)\n",
    "    print(\"Promedio de ventas diarias por categoría:\")\n",
    "    print(promedio_ventas)"
   ]
  },
  {
   "cell_type": "code",
   "execution_count": 16,
   "metadata": {},
   "outputs": [
    {
     "name": "stdout",
     "output_type": "stream",
     "text": [
      "Categoría con mayores ventas: Electronics ($156905)\n",
      "Categoría con menores ventas: Beauty ($143515)\n"
     ]
    }
   ],
   "source": [
    "# Identificar las categorías de productos con mayores y menores ventas.\n",
    "def identificar_mayores_menores_ventas(datos):\n",
    "    # Agrupar por categoría y sumar las ventas para cada una\n",
    "    ventas_totales = datos.groupby('Product Category')['Total Amount'].sum()\n",
    "\n",
    "    # Identificar las categorías con mayores y menores ventas\n",
    "    categoria_mayor_venta = ventas_totales.idxmax()  # Categoría con mayores ventas\n",
    "    categoria_menor_venta = ventas_totales.idxmin()  # Categoría con menores ventas\n",
    "\n",
    "    # Ventas máximas y mínimas\n",
    "    max_ventas = ventas_totales.max()\n",
    "    min_ventas = ventas_totales.min()\n",
    "\n",
    "    return categoria_mayor_venta, max_ventas, categoria_menor_venta, min_ventas\n",
    "\n",
    "if __name__ == \"__main__\":\n",
    "    ruta_archivo = './data/retail_sales_dataset.csv'  # Cambia la ruta según sea necesario\n",
    "    datos = cargar_datos(ruta_archivo)\n",
    "\n",
    "    # Identificar y mostrar las categorías con mayores y menores ventas\n",
    "    categoria_mayor, ventas_mayor, categoria_menor, ventas_menor = identificar_mayores_menores_ventas(datos)\n",
    "    \n",
    "    print(f\"Categoría con mayores ventas: {categoria_mayor} (${ventas_mayor})\")\n",
    "    print(f\"Categoría con menores ventas: {categoria_menor} (${ventas_menor})\")"
   ]
  }
 ],
 "metadata": {
  "kernelspec": {
   "display_name": "Python 3",
   "language": "python",
   "name": "python3"
  },
  "language_info": {
   "codemirror_mode": {
    "name": "ipython",
    "version": 3
   },
   "file_extension": ".py",
   "mimetype": "text/x-python",
   "name": "python",
   "nbconvert_exporter": "python",
   "pygments_lexer": "ipython3",
   "version": "3.13.0"
  }
 },
 "nbformat": 4,
 "nbformat_minor": 2
}
