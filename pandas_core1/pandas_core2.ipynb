{
 "cells": [
  {
   "cell_type": "markdown",
   "metadata": {},
   "source": [
    "    Instrucciones\n",
    "\n",
    "    Preparación del Entorno\n",
    "* Asegúrate de tener instalado Pandas en tu entorno de trabajo.\n",
    "* Utiliza el archivo retail_sales.csv del proyecto inicial. Si aún no lo tienes, descarga el archivo correspondiente.\n",
    "\n",
    "    Cargar los Datos\n",
    "* Carga el archivo retail_sales.csv en un DataFrame de Pandas.\n",
    "* Muestra las primeras 10 filas del DataFrame para confirmar que los datos se han cargado correctamente.\n",
    "\n",
    "    Exploración Inicial de los Datos\n",
    "* Muestra las últimas 5 filas del DataFrame.\n",
    "* Utiliza el método info() para obtener información general sobre el DataFrame, incluyendo el número de entradas, nombres de las columnas, tipos de datos y memoria utilizada.\n",
    "* Genera estadísticas descriptivas del DataFrame utilizando el método describe().\n",
    "\n",
    "    Inspección de los Datos\n",
    "* Inspecciona los tipos de datos de cada columna utilizando el atributo dtypes.\n",
    "* Cuenta los valores únicos en la columna Producto utilizando el método value_counts().\n",
    "* Muestra todos los valores únicos en la columna Tienda utilizando el método unique().\n",
    "\n",
    "    Filtrado de Datos\n",
    "* Filtra el DataFrame para mostrar solo las filas donde las ventas (Ventas) sean mayores a 50.\n",
    "* Filtra el DataFrame para mostrar solo las filas donde el precio (Precio) sea menor a 0.5.\n",
    "* Utilizando el método query(), filtra el DataFrame para mostrar las filas donde el producto sea Manzanas y las ventas sean mayores a 30.\n",
    "\n",
    "    Slicing de Datos\n",
    "* Selecciona y muestra solo las columnas Producto y Ventas del DataFrame.\n",
    "* Utilizando loc[], selecciona y muestra las filas de la 5 a la 10 (inclusive) y las columnas Producto y Tienda.\n",
    "* Utilizando iloc[], selecciona y muestra las primeras 5 filas y las primeras 3 columnas del DataFrame."
   ]
  },
  {
   "cell_type": "code",
   "execution_count": 3,
   "metadata": {},
   "outputs": [],
   "source": [
    "import pandas as pd"
   ]
  },
  {
   "cell_type": "code",
   "execution_count": null,
   "metadata": {},
   "outputs": [],
   "source": [
    "df = pd.read_csv('../data/vgsales.csv')\n",
    "print(df.shape)\n",
    "df.head(5)\n",
    "\n",
    "\n"
   ]
  },
  {
   "cell_type": "code",
   "execution_count": null,
   "metadata": {},
   "outputs": [],
   "source": [
    "# Ver las primeras 10 filas del DataFrame\n",
    "print(df.shape)\n",
    "df.head(10)"
   ]
  },
  {
   "cell_type": "code",
   "execution_count": null,
   "metadata": {},
   "outputs": [],
   "source": [
    "# Ver las últimas 5 filas del DataFrame\n",
    "print(df.shape)\n",
    "df.tail(5)"
   ]
  },
  {
   "cell_type": "code",
   "execution_count": null,
   "metadata": {},
   "outputs": [],
   "source": [
    "# Ver la información del DataFrame\n",
    "print(df.info)\n"
   ]
  },
  {
   "cell_type": "code",
   "execution_count": null,
   "metadata": {},
   "outputs": [],
   "source": [
    "# Ver la descripción de los datos del DataFrame\n",
    "print(df.describe())"
   ]
  },
  {
   "cell_type": "code",
   "execution_count": null,
   "metadata": {},
   "outputs": [],
   "source": [
    "# Inspeccionar los tipos de datos de las columnas\n",
    "print(df.dtypes)"
   ]
  },
  {
   "cell_type": "code",
   "execution_count": null,
   "metadata": {},
   "outputs": [],
   "source": [
    "# Cuenta los valores únicos en la columna Product Category\n",
    "print(df['Product Category'].value_counts())"
   ]
  },
  {
   "cell_type": "code",
   "execution_count": null,
   "metadata": {},
   "outputs": [],
   "source": [
    "# Valores únicos en la columna Gender\n",
    "print(df['Gender'].value_counts())"
   ]
  },
  {
   "cell_type": "code",
   "execution_count": null,
   "metadata": {},
   "outputs": [],
   "source": [
    "# Filtra el DataFrame para mostrar solo las filas donde la edad (Age) sea mayor a 25.\n",
    "print(df[df['Age'] > 25])"
   ]
  },
  {
   "cell_type": "code",
   "execution_count": null,
   "metadata": {},
   "outputs": [],
   "source": [
    "# Filtra el DataFrame para mostrar solo las filas donde el precio por unidad (Price per Unit) sea menor a 100.\n",
    "print(df[df['Price per Unit'] < 100])"
   ]
  },
  {
   "cell_type": "code",
   "execution_count": null,
   "metadata": {},
   "outputs": [],
   "source": [
    "# Utilizando el método query(), filtra el DataFrame para mostrar las filas donde el genero\n",
    "# sea Masculino y el total amount sean mayores a 500.\n",
    "metodo_query = df.query('Gender == \"Female\" & Age > 27')\n",
    "print(metodo_query)"
   ]
  },
  {
   "cell_type": "code",
   "execution_count": null,
   "metadata": {},
   "outputs": [],
   "source": [
    "# Selecciona y muestra solo las columnas Producto y Ventas del DataFrame.\n",
    "select_columnas = df[['Product Category', 'Total Amount']]\n",
    "print(select_columnas)"
   ]
  },
  {
   "cell_type": "code",
   "execution_count": null,
   "metadata": {},
   "outputs": [],
   "source": [
    "# Utilizando loc[], selecciona y muestra las filas de la 5 a la 10 (inclusive) y las columnas Producto y Tienda.\n",
    "selected_rows = df.loc[5:10, ['Quantity', 'Price per Unit']]\n",
    "print(selected_rows)"
   ]
  },
  {
   "cell_type": "code",
   "execution_count": null,
   "metadata": {},
   "outputs": [],
   "source": [
    "# Utilizando iloc[], selecciona y muestra las primeras 5 filas y las primeras 3 columnas del DataFrame.\n",
    "selected_rows = df.iloc[0:5, 0:3]\n",
    "print(selected_rows)"
   ]
  }
 ],
 "metadata": {
  "kernelspec": {
   "display_name": "Python 3",
   "language": "python",
   "name": "python3"
  },
  "language_info": {
   "codemirror_mode": {
    "name": "ipython",
    "version": 3
   },
   "file_extension": ".py",
   "mimetype": "text/x-python",
   "name": "python",
   "nbconvert_exporter": "python",
   "pygments_lexer": "ipython3",
   "version": "3.13.0"
  }
 },
 "nbformat": 4,
 "nbformat_minor": 2
}
