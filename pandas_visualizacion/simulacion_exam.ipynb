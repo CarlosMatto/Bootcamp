{
 "cells": [
  {
   "cell_type": "markdown",
   "metadata": {},
   "source": [
    "    Fundamentos de Data Science – Práctica para el Examen\n",
    "\n",
    "Contexto:\n",
    "\n",
    "La tarea es limpiar y explorar los datos para una compañía de tecnología emergente que desarrolla aplicaciones móviles. La empresa quiere mejorar la experiencia del usuario y aumentar la retención de usuarios en sus aplicaciones. Han recolectado datos sobre el uso de sus aplicaciones y quieren entender mejor cómo los usuarios interactúan con sus productos."
   ]
  },
  {
   "cell_type": "code",
   "execution_count": 18,
   "metadata": {},
   "outputs": [],
   "source": [
    "import pandas as pd\n",
    "import numpy as np\n",
    "import random\n",
    "import matplotlib.pyplot as plt"
   ]
  },
  {
   "cell_type": "code",
   "execution_count": 2,
   "metadata": {},
   "outputs": [],
   "source": [
    "# Configuramos la semilla para reproducibilidad\n",
    "np.random.seed(42)\n",
    "\n",
    "# Generamos los datos sintéticos\n",
    "user_id = range(1, 301)\n",
    "app_version = np.random.choice(['1.0', '1.1', '1.2', '1.3'], 300)\n",
    "platform = np.random.choice(['Android', 'iOS'], 300)\n",
    "session_duration = np.random.randint(1, 180, 300)\n",
    "number_of_sessions = np.random.randint(1, 20, 300)\n",
    "country = np.random.choice(['USA', 'Canada', 'Mexico', 'UK', 'Germany', 'France', 'Spain', 'Italy'], 300)\n",
    "user_feedback = np.random.randint(1, 6, 300)\n"
   ]
  },
  {
   "cell_type": "code",
   "execution_count": 4,
   "metadata": {},
   "outputs": [],
   "source": [
    "# Creamos el DataFrame\n",
    "data = pd.DataFrame({\n",
    "    'user_id': user_id,\n",
    "    'app_version': app_version,\n",
    "    'platform': platform,\n",
    "    'session_duration': session_duration,\n",
    "    'number_of_sessions': number_of_sessions,\n",
    "    'country': country,\n",
    "    'user_feedback': user_feedback\n",
    "})\n",
    "data.to_csv(\"app_mobile.csv\", index=False)"
   ]
  },
  {
   "cell_type": "code",
   "execution_count": null,
   "metadata": {},
   "outputs": [],
   "source": [
    "df = pd.read_csv('../data/app_mobile.csv')\n",
    "\n",
    "df.head(5)\n"
   ]
  },
  {
   "cell_type": "markdown",
   "metadata": {},
   "source": [
    "# 1) Limpieza de Datos:\n",
    "\n",
    "El primer paso en este proceso es usar Python para limpiar los datos y dejarlos listos para el análisis. Deben:"
   ]
  },
  {
   "cell_type": "markdown",
   "metadata": {},
   "source": [
    "## Identificar y abordar cualquier valor duplicado."
   ]
  },
  {
   "cell_type": "code",
   "execution_count": null,
   "metadata": {},
   "outputs": [],
   "source": [
    "# Detección y eliminación de valores duplicados\n",
    "\n",
    "duplicados = df.duplicated()\n",
    "print(f\"Se han detectado {duplicados.sum()} duplicados\")\n"
   ]
  },
  {
   "cell_type": "markdown",
   "metadata": {},
   "source": [
    "## Identificar y abordar cualquier dato que falte en este conjunto de datos. \n",
    "Trátenlos de forma adecuada. Incluyan una breve descripción en el método que usan para tratar con los valores que faltan junto con una justificación para el uso de ese método."
   ]
  },
  {
   "cell_type": "code",
   "execution_count": null,
   "metadata": {},
   "outputs": [],
   "source": [
    "qsna=df.shape[0]-df.isnull().sum(axis=0)\n",
    "qna=df.isnull().sum(axis=0)\n",
    "ppna=round(100*(df.isnull().sum(axis=0)/df.shape[0]),2)\n",
    "aux= {'datos sin NAs en q': qsna, 'Na en q': qna ,'Na en %': ppna}\n",
    "na=pd.DataFrame(data=aux)\n",
    "na.sort_values(by='Na en %',ascending=False)"
   ]
  },
  {
   "cell_type": "markdown",
   "metadata": {},
   "source": [
    "## Asegurarse de que todas las columnas coincidan con los tipos de datos enumerados en el diccionario de datos."
   ]
  },
  {
   "cell_type": "code",
   "execution_count": null,
   "metadata": {},
   "outputs": [],
   "source": [
    "df.info()"
   ]
  },
  {
   "cell_type": "code",
   "execution_count": null,
   "metadata": {},
   "outputs": [],
   "source": [
    "data_type = {\n",
    "    'platform' : 'category',\n",
    "    'country' : 'category'\n",
    "}\n",
    "df = df.astype(data_type)\n",
    "print(df.dtypes)"
   ]
  },
  {
   "cell_type": "markdown",
   "metadata": {},
   "source": [
    "## Identificar y abordar cualquier inconsistencia en los valores categóricos (ejemplo: android, Android, ANDROID)."
   ]
  },
  {
   "cell_type": "code",
   "execution_count": null,
   "metadata": {},
   "outputs": [],
   "source": [
    "columnas_string = df.select_dtypes(include=['category'])\n",
    "\n",
    "# Mostrar valores únicos de cada columna de tipo cadena\n",
    "for col in columnas_string.columns:\n",
    "    print(f\"Valores únicos en la columna '{col}':\")\n",
    "    print(df[col].unique())\n",
    "    print()"
   ]
  },
  {
   "cell_type": "code",
   "execution_count": null,
   "metadata": {},
   "outputs": [],
   "source": [
    "# Convertir las cadenas en minúsculas\n",
    "def cadena_minus(cadena):\n",
    "    if isinstance(cadena , str):\n",
    "        cadena = cadena.lower()\n",
    "    return cadena\n",
    "# aplicar la funcion a las columnas tipo cadena\n",
    "for col in columnas_string:\n",
    "    df[col] = df[col].apply(cadena_minus)\n",
    "# Verificar los cambios\n",
    "for col in columnas_string:\n",
    "    print(f\"\\nValores únicos después de limpieza en '{col}':\")\n",
    "    print(df[col].unique())"
   ]
  },
  {
   "cell_type": "markdown",
   "metadata": {},
   "source": [
    "## Identificar y abordar cualquier punto de datos inapropiados o inusuales (ejemplo: tiempo de uso de 10000 horas en una semana)."
   ]
  },
  {
   "cell_type": "code",
   "execution_count": null,
   "metadata": {},
   "outputs": [],
   "source": [
    "verif_columnas = ['app_version', 'session_duration', 'number_of_sessions', 'user_feedback']\n",
    "df[verif_columnas].describe()"
   ]
  },
  {
   "cell_type": "markdown",
   "metadata": {},
   "source": [
    "### No se verifica datos anomalos"
   ]
  },
  {
   "cell_type": "markdown",
   "metadata": {},
   "source": [
    "# 2) Exploración de Datos:"
   ]
  },
  {
   "cell_type": "markdown",
   "metadata": {},
   "source": [
    "## Dos tipos diferentes de visualizaciones exploratorias univariantes. \n",
    "\n",
    "Cada visualización debe incluir una breve interpretación dentro del archivo de código."
   ]
  },
  {
   "cell_type": "code",
   "execution_count": null,
   "metadata": {},
   "outputs": [],
   "source": [
    "# Promedio de sesiones por tipo de sistema operativo por plataforma\n",
    "os_type = df['platform'].value_counts()\n",
    "session_duration = df['session_duration'].mean()\n",
    "# creamos el grafico\n",
    "plt.figure(figsize=(8, 4))\n",
    "plt.bar(os_type.index, session_duration, color='skyblue')\n",
    "plt.title('Promedio de sesiones por tipo de sistema operativo')\n",
    "plt.xlabel('Tipo de OS')\n",
    "plt.ylabel('Promedio de duracion de sesiones')\n",
    "plt.xticks(rotation=0)\n",
    "plt.show()"
   ]
  },
  {
   "cell_type": "code",
   "execution_count": null,
   "metadata": {},
   "outputs": [],
   "source": [
    "# Agrupar el número de sesiones promedio por nivel de feedback\n",
    "sessions_mean = df.groupby('user_feedback')['number_of_sessions'].mean()\n",
    "\n",
    "# Graficar\n",
    "sessions_mean.plot(kind='line', marker='o', color='teal')\n",
    "plt.xlabel('User Feedback')\n",
    "plt.ylabel('Promedio de numero de sesiones')\n",
    "plt.title('Promedio de numero de sesiones por nivel de feedback')\n",
    "plt.show()"
   ]
  },
  {
   "cell_type": "markdown",
   "metadata": {},
   "source": [
    "## Dos tipos diferentes de visualizaciones exploratorias multivariantes. \n",
    "Cada visualización debe incluir una breve interpretación dentro del archivo de código."
   ]
  },
  {
   "cell_type": "code",
   "execution_count": null,
   "metadata": {},
   "outputs": [],
   "source": [
    "# Promedio de sesiones por tipo de sistema operativo por plataforma\n",
    "feedback_mean = df.groupby(['number_of_sessions', 'platform'])['user_feedback'].mean().unstack()\n",
    "\n",
    "# Graficar\n",
    "feedback_mean.plot(kind='line', marker='o')\n",
    "plt.xlabel('Number of Sessions')\n",
    "plt.ylabel('Average User Feedback')\n",
    "plt.title('Average User Feedback per Session by Platform')\n",
    "plt.show()"
   ]
  },
  {
   "cell_type": "code",
   "execution_count": null,
   "metadata": {},
   "outputs": [],
   "source": [
    "# Calcular el promedio de sesiones por calificación y plataforma\n",
    "sessions_platform = df.groupby(['user_feedback', 'platform'])['number_of_sessions'].mean().unstack()\n",
    "\n",
    "# Configurar el gráfico de barras\n",
    "bar_width = 0.35  # Ancho de las barras\n",
    "labels = sessions_platform.index  # Calificaciones de feedback\n",
    "x = np.arange(len(labels))  # Posiciones en el eje x\n",
    "\n",
    "# Crear el gráfico de barras\n",
    "fig, ax = plt.subplots()\n",
    "\n",
    "# Crear las barras para Android e iOS\n",
    "bars1 = ax.bar(x - bar_width/2, sessions_platform['android'], bar_width, label='Android')\n",
    "bars2 = ax.bar(x + bar_width/2, sessions_platform['ios'], bar_width, label='iOS')\n",
    "\n",
    "# Etiquetas y título\n",
    "ax.set_xlabel('User Feedback')\n",
    "ax.set_ylabel('Promedio de numero de sesiones')\n",
    "ax.set_title('Promedio de numero de sesiones por user feedback y plataforma')\n",
    "ax.set_xticks(x)\n",
    "ax.set_xticklabels(labels)\n",
    "ax.legend()\n",
    "\n",
    "# Mostrar el gráfico\n",
    "plt.show()"
   ]
  }
 ],
 "metadata": {
  "kernelspec": {
   "display_name": "Python 3",
   "language": "python",
   "name": "python3"
  },
  "language_info": {
   "codemirror_mode": {
    "name": "ipython",
    "version": 3
   },
   "file_extension": ".py",
   "mimetype": "text/x-python",
   "name": "python",
   "nbconvert_exporter": "python",
   "pygments_lexer": "ipython3",
   "version": "3.13.0"
  }
 },
 "nbformat": 4,
 "nbformat_minor": 2
}
