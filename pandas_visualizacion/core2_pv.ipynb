{
 "cells": [
  {
   "cell_type": "markdown",
   "metadata": {},
   "source": [
    "    Análisis y Predicción de Ventas en una Tienda de Retail (Core)\n",
    "\n",
    "Parte III: Transformación y Análisis Avanzado de Datos con Pandas\n",
    "\n",
    "En esta tercera parte del proyecto, continuaremos trabajando con el dataset de ventas que utilizamos en la Parte II. En esta fase, aplicaremos técnicas avanzadas de transformación y análisis de datos utilizando las nuevas habilidades adquiridas en Pandas, tales como agrupaciones complejas y el uso del método apply. Nos enfocaremos en extraer insights más profundos y preparar los datos para futuros análisis y modelos predictivos."
   ]
  },
  {
   "cell_type": "code",
   "execution_count": 2,
   "metadata": {},
   "outputs": [],
   "source": [
    "import pandas as pd"
   ]
  },
  {
   "cell_type": "code",
   "execution_count": 3,
   "metadata": {},
   "outputs": [
    {
     "name": "stdout",
     "output_type": "stream",
     "text": [
      "(16598, 11)\n"
     ]
    },
    {
     "data": {
      "text/html": [
       "<div>\n",
       "<style scoped>\n",
       "    .dataframe tbody tr th:only-of-type {\n",
       "        vertical-align: middle;\n",
       "    }\n",
       "\n",
       "    .dataframe tbody tr th {\n",
       "        vertical-align: top;\n",
       "    }\n",
       "\n",
       "    .dataframe thead th {\n",
       "        text-align: right;\n",
       "    }\n",
       "</style>\n",
       "<table border=\"1\" class=\"dataframe\">\n",
       "  <thead>\n",
       "    <tr style=\"text-align: right;\">\n",
       "      <th></th>\n",
       "      <th>Rank</th>\n",
       "      <th>Name</th>\n",
       "      <th>Platform</th>\n",
       "      <th>Year</th>\n",
       "      <th>Genre</th>\n",
       "      <th>Publisher</th>\n",
       "      <th>NA_Sales</th>\n",
       "      <th>EU_Sales</th>\n",
       "      <th>JP_Sales</th>\n",
       "      <th>Other_Sales</th>\n",
       "      <th>Global_Sales</th>\n",
       "    </tr>\n",
       "  </thead>\n",
       "  <tbody>\n",
       "    <tr>\n",
       "      <th>0</th>\n",
       "      <td>1</td>\n",
       "      <td>Wii Sports</td>\n",
       "      <td>Wii</td>\n",
       "      <td>2006.0</td>\n",
       "      <td>Sports</td>\n",
       "      <td>Nintendo</td>\n",
       "      <td>41.49</td>\n",
       "      <td>29.02</td>\n",
       "      <td>3.77</td>\n",
       "      <td>8.46</td>\n",
       "      <td>82.74</td>\n",
       "    </tr>\n",
       "    <tr>\n",
       "      <th>1</th>\n",
       "      <td>2</td>\n",
       "      <td>Super Mario Bros.</td>\n",
       "      <td>NES</td>\n",
       "      <td>1985.0</td>\n",
       "      <td>Platform</td>\n",
       "      <td>Nintendo</td>\n",
       "      <td>29.08</td>\n",
       "      <td>3.58</td>\n",
       "      <td>6.81</td>\n",
       "      <td>0.77</td>\n",
       "      <td>40.24</td>\n",
       "    </tr>\n",
       "    <tr>\n",
       "      <th>2</th>\n",
       "      <td>3</td>\n",
       "      <td>Mario Kart Wii</td>\n",
       "      <td>Wii</td>\n",
       "      <td>2008.0</td>\n",
       "      <td>Racing</td>\n",
       "      <td>Nintendo</td>\n",
       "      <td>15.85</td>\n",
       "      <td>12.88</td>\n",
       "      <td>3.79</td>\n",
       "      <td>3.31</td>\n",
       "      <td>35.82</td>\n",
       "    </tr>\n",
       "    <tr>\n",
       "      <th>3</th>\n",
       "      <td>4</td>\n",
       "      <td>Wii Sports Resort</td>\n",
       "      <td>Wii</td>\n",
       "      <td>2009.0</td>\n",
       "      <td>Sports</td>\n",
       "      <td>Nintendo</td>\n",
       "      <td>15.75</td>\n",
       "      <td>11.01</td>\n",
       "      <td>3.28</td>\n",
       "      <td>2.96</td>\n",
       "      <td>33.00</td>\n",
       "    </tr>\n",
       "    <tr>\n",
       "      <th>4</th>\n",
       "      <td>5</td>\n",
       "      <td>Pokemon Red/Pokemon Blue</td>\n",
       "      <td>GB</td>\n",
       "      <td>1996.0</td>\n",
       "      <td>Role-Playing</td>\n",
       "      <td>Nintendo</td>\n",
       "      <td>11.27</td>\n",
       "      <td>8.89</td>\n",
       "      <td>10.22</td>\n",
       "      <td>1.00</td>\n",
       "      <td>31.37</td>\n",
       "    </tr>\n",
       "  </tbody>\n",
       "</table>\n",
       "</div>"
      ],
      "text/plain": [
       "   Rank                      Name Platform    Year         Genre Publisher  \\\n",
       "0     1                Wii Sports      Wii  2006.0        Sports  Nintendo   \n",
       "1     2         Super Mario Bros.      NES  1985.0      Platform  Nintendo   \n",
       "2     3            Mario Kart Wii      Wii  2008.0        Racing  Nintendo   \n",
       "3     4         Wii Sports Resort      Wii  2009.0        Sports  Nintendo   \n",
       "4     5  Pokemon Red/Pokemon Blue       GB  1996.0  Role-Playing  Nintendo   \n",
       "\n",
       "   NA_Sales  EU_Sales  JP_Sales  Other_Sales  Global_Sales  \n",
       "0     41.49     29.02      3.77         8.46         82.74  \n",
       "1     29.08      3.58      6.81         0.77         40.24  \n",
       "2     15.85     12.88      3.79         3.31         35.82  \n",
       "3     15.75     11.01      3.28         2.96         33.00  \n",
       "4     11.27      8.89     10.22         1.00         31.37  "
      ]
     },
     "execution_count": 3,
     "metadata": {},
     "output_type": "execute_result"
    }
   ],
   "source": [
    "df = pd.read_csv('../data/vgsales.csv') # use este dataset ya que el retail_sales_dataset.csv tiene muy pocas columnas utiles\n",
    "print(df.shape)\n",
    "df.head(5)\n"
   ]
  },
  {
   "cell_type": "markdown",
   "metadata": {},
   "source": [
    "# Transformación de Datos"
   ]
  },
  {
   "cell_type": "markdown",
   "metadata": {},
   "source": [
    "## Crea nuevas columnas: Basándonos en los datos existentes, crea nuevas columnas que sean útiles para el análisis.\n",
    "* Por ejemplo el porcentaje que representan cada region del total Global_Sales"
   ]
  },
  {
   "cell_type": "code",
   "execution_count": 17,
   "metadata": {},
   "outputs": [
    {
     "name": "stdout",
     "output_type": "stream",
     "text": [
      "0         50.15\n",
      "1         72.27\n",
      "2         44.25\n",
      "3         47.73\n",
      "4         35.93\n",
      "          ...  \n",
      "16593    100.00\n",
      "16594    100.00\n",
      "16595      0.00\n",
      "16596      0.00\n",
      "16597    100.00\n",
      "Name: NA_Porcentaje, Length: 16598, dtype: float64\n"
     ]
    }
   ],
   "source": [
    "\n",
    "df['NA_Porcentaje'] = df['NA_Sales'] / df['Global_Sales'] * 100\n",
    "print(df['NA_Porcentaje'].round(2))"
   ]
  },
  {
   "cell_type": "code",
   "execution_count": 18,
   "metadata": {},
   "outputs": [
    {
     "name": "stdout",
     "output_type": "stream",
     "text": [
      "0         35.07\n",
      "1          8.90\n",
      "2         35.96\n",
      "3         33.36\n",
      "4         28.34\n",
      "          ...  \n",
      "16593      0.00\n",
      "16594      0.00\n",
      "16595      0.00\n",
      "16596    100.00\n",
      "16597      0.00\n",
      "Name: EU_Porcentaje, Length: 16598, dtype: float64\n"
     ]
    }
   ],
   "source": [
    "df['EU_Porcentaje'] = df['EU_Sales'] / df['Global_Sales'] * 100\n",
    "print(df['EU_Porcentaje'].round(2))"
   ]
  },
  {
   "cell_type": "code",
   "execution_count": 19,
   "metadata": {},
   "outputs": [
    {
     "name": "stdout",
     "output_type": "stream",
     "text": [
      "0         4.56\n",
      "1        16.92\n",
      "2        10.58\n",
      "3         9.94\n",
      "4        32.58\n",
      "         ...  \n",
      "16593     0.00\n",
      "16594     0.00\n",
      "16595     0.00\n",
      "16596     0.00\n",
      "16597     0.00\n",
      "Name: JP_Porcentaje, Length: 16598, dtype: float64\n"
     ]
    }
   ],
   "source": [
    "df['JP_Porcentaje'] = df['JP_Sales'] / df['Global_Sales'] * 100\n",
    "print(df['JP_Porcentaje'].round(2))"
   ]
  },
  {
   "cell_type": "code",
   "execution_count": 20,
   "metadata": {},
   "outputs": [
    {
     "name": "stdout",
     "output_type": "stream",
     "text": [
      "0        10.22\n",
      "1         1.91\n",
      "2         9.24\n",
      "3         8.97\n",
      "4         3.19\n",
      "         ...  \n",
      "16593     0.00\n",
      "16594     0.00\n",
      "16595     0.00\n",
      "16596     0.00\n",
      "16597     0.00\n",
      "Name: Other_Porcentaje, Length: 16598, dtype: float64\n"
     ]
    }
   ],
   "source": [
    "df['Other_Porcentaje'] = df['Other_Sales'] / df['Global_Sales'] * 100\n",
    "print(df['Other_Porcentaje'].round(2))"
   ]
  },
  {
   "cell_type": "code",
   "execution_count": 14,
   "metadata": {},
   "outputs": [
    {
     "name": "stdout",
     "output_type": "stream",
     "text": [
      "0         Alto\n",
      "1         Alto\n",
      "2        Medio\n",
      "3        Medio\n",
      "4        Medio\n",
      "         ...  \n",
      "16593     Bajo\n",
      "16594     Bajo\n",
      "16595     Bajo\n",
      "16596     Bajo\n",
      "16597     Bajo\n",
      "Name: sales_category, Length: 16598, dtype: object\n"
     ]
    }
   ],
   "source": [
    "# Clasifica los datos: Crea una columna que clasifique las ventas en categorías significativas (e.g., ‘Alta’, ‘Media’, ‘Baja’).\n",
    "df['sales_category'] = df['Global_Sales'].apply(lambda x: 'Alto' if x > 40 else ('Medio' if x > 10 else 'Bajo'))\n",
    "print(df['sales_category'])"
   ]
  },
  {
   "cell_type": "markdown",
   "metadata": {},
   "source": [
    "# Agrupación y Agregación"
   ]
  },
  {
   "cell_type": "code",
   "execution_count": null,
   "metadata": {},
   "outputs": [],
   "source": [
    "# Agrupación por múltiples columnas: \n",
    "# Realiza agrupaciones por categorías como producto y tienda, producto y mes, etc.\n",
    "\n",
    "# Agrupo por las ventas totales por genero\n",
    "sales_by_genre = df.groupby('Genre')['Global_Sales'].sum().reset_index()\n",
    "print(sales_by_genre)"
   ]
  },
  {
   "cell_type": "code",
   "execution_count": null,
   "metadata": {},
   "outputs": [],
   "source": [
    "# Agrupo por 'Genre' y sumar las 'Global_Sales'\n",
    "Nasales_by_publisher = df.groupby('Publisher')['NA_Sales'].sum().reset_index()\n",
    "print(Nasales_by_publisher)"
   ]
  },
  {
   "cell_type": "code",
   "execution_count": null,
   "metadata": {},
   "outputs": [],
   "source": [
    "# Aplicar funciones de agregación: \n",
    "# Utiliza funciones como sum, mean, count, min, max, std, y var para obtener estadísticas descriptivas de cada grupo.\n",
    "\n",
    "sales_by_genre = df.groupby('Genre')['Global_Sales'].agg(['mean', 'max', 'min', 'std'])\n",
    "\n",
    "print(sales_by_genre)"
   ]
  },
  {
   "cell_type": "code",
   "execution_count": null,
   "metadata": {},
   "outputs": [],
   "source": [
    "sales_by_genre = df.groupby('Publisher')['NA_Sales'].agg(['mean', 'max', 'min', 'std'])\n",
    "\n",
    "print(sales_by_genre)"
   ]
  },
  {
   "cell_type": "markdown",
   "metadata": {},
   "source": [
    "Análisis Personalizado con apply"
   ]
  },
  {
   "cell_type": "code",
   "execution_count": 8,
   "metadata": {},
   "outputs": [
    {
     "name": "stdout",
     "output_type": "stream",
     "text": [
      "                              Name  Global_Sales\n",
      "29  Call of Duty: Modern Warfare 3         14.76\n",
      "31         Call of Duty: Black Ops         14.64\n",
      "33       Call of Duty: Black Ops 3         14.24\n",
      "34      Call of Duty: Black Ops II         14.03\n",
      "35      Call of Duty: Black Ops II         13.73\n",
      "36  Call of Duty: Modern Warfare 2         13.51\n",
      "37  Call of Duty: Modern Warfare 3         13.46\n",
      "40         Call of Duty: Black Ops         12.73\n",
      "55  Call of Duty: Modern Warfare 2         10.69\n",
      "61            Call of Duty: Ghosts         10.21\n"
     ]
    }
   ],
   "source": [
    "# Función personalizada: \n",
    "# Aplica funciones personalizadas para realizar análisis específicos que no se pueden lograr con las funciones de agregación estándar.\n",
    "\n",
    "# Los juegos de la compañia Activision que hayan superado los 10 millones en ventas a nivel global\n",
    "juegos_filtrados = df[df.apply(lambda x: x['Publisher'] == 'Activision' and x['Global_Sales'] > 10, axis=1)]\n",
    "\n",
    "print(juegos_filtrados[['Name', 'Global_Sales']])"
   ]
  },
  {
   "cell_type": "code",
   "execution_count": 5,
   "metadata": {},
   "outputs": [
    {
     "name": "stdout",
     "output_type": "stream",
     "text": [
      "                                                   Name  Global_Sales  \\\n",
      "0                                            Wii Sports         82.74   \n",
      "1                                     Super Mario Bros.         40.24   \n",
      "2                                        Mario Kart Wii         35.82   \n",
      "3                                     Wii Sports Resort         33.00   \n",
      "4                              Pokemon Red/Pokemon Blue         31.37   \n",
      "...                                                 ...           ...   \n",
      "16593                Woody Woodpecker in Crazy Castle 5          0.01   \n",
      "16594                     Men in Black II: Alien Escape          0.01   \n",
      "16595  SCORE International Baja 1000: The Official Game          0.01   \n",
      "16596                                        Know How 2          0.01   \n",
      "16597                                  Spirits & Spells          0.01   \n",
      "\n",
      "       Desviacion_Ventas  \n",
      "0              82.172681  \n",
      "1              39.301659  \n",
      "2              35.233899  \n",
      "3              32.432681  \n",
      "4              30.746767  \n",
      "...                  ...  \n",
      "16593          -0.928341  \n",
      "16594          -0.781885  \n",
      "16595          -0.576101  \n",
      "16596          -0.410876  \n",
      "16597          -0.928341  \n",
      "\n",
      "[16598 rows x 3 columns]\n"
     ]
    },
    {
     "name": "stderr",
     "output_type": "stream",
     "text": [
      "C:\\Users\\IK\\AppData\\Local\\Temp\\ipykernel_6376\\1709353424.py:3: DeprecationWarning: DataFrameGroupBy.apply operated on the grouping columns. This behavior is deprecated, and in a future version of pandas the grouping columns will be excluded from the operation. Either pass `include_groups=False` to exclude the groupings or explicitly select the grouping columns after groupby to silence this warning.\n",
      "  df['Desviacion_Ventas'] = df.groupby('Genre').apply(\n"
     ]
    }
   ],
   "source": [
    "# Ejemplo de uso avanzado: Calcula la desviación de cada venta respecto a la media de su grupo.\n",
    "\n",
    "df['Desviacion_Ventas'] = df.groupby('Genre').apply(\n",
    "    lambda grupo: grupo['Global_Sales'] - grupo['Global_Sales'].mean()\n",
    ").reset_index(level=0, drop=True)\n",
    "\n",
    "# Mostrar algunos resultados\n",
    "print(df[['Name', 'Global_Sales', 'Desviacion_Ventas']])"
   ]
  },
  {
   "cell_type": "code",
   "execution_count": 6,
   "metadata": {},
   "outputs": [],
   "source": [
    "df.to_csv('vgsales_clonado.csv', index=False)\n"
   ]
  }
 ],
 "metadata": {
  "kernelspec": {
   "display_name": "Python 3",
   "language": "python",
   "name": "python3"
  },
  "language_info": {
   "codemirror_mode": {
    "name": "ipython",
    "version": 3
   },
   "file_extension": ".py",
   "mimetype": "text/x-python",
   "name": "python",
   "nbconvert_exporter": "python",
   "pygments_lexer": "ipython3",
   "version": "3.13.0"
  }
 },
 "nbformat": 4,
 "nbformat_minor": 2
}
